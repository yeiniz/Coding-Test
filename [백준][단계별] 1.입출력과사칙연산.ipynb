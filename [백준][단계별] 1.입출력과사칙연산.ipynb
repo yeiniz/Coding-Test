{
  "nbformat": 4,
  "nbformat_minor": 0,
  "metadata": {
    "colab": {
      "provenance": [],
      "authorship_tag": "ABX9TyPBFRh5oY28m6h9cNj/hubI",
      "include_colab_link": true
    },
    "kernelspec": {
      "name": "python3",
      "display_name": "Python 3"
    },
    "language_info": {
      "name": "python"
    }
  },
  "cells": [
    {
      "cell_type": "markdown",
      "metadata": {
        "id": "view-in-github",
        "colab_type": "text"
      },
      "source": [
        "<a href=\"https://colab.research.google.com/github/yeiniz/Coding-Test/blob/main/%5B%EB%B0%B1%EC%A4%80%5D%5B%EB%8B%A8%EA%B3%84%EB%B3%84%5D%201.%EC%9E%85%EC%B6%9C%EB%A0%A5%EA%B3%BC%EC%82%AC%EC%B9%99%EC%97%B0%EC%82%B0.ipynb\" target=\"_parent\"><img src=\"https://colab.research.google.com/assets/colab-badge.svg\" alt=\"Open In Colab\"/></a>"
      ]
    },
    {
      "cell_type": "markdown",
      "source": [
        "## **[백준 | 단계별로 풀어보기] 1. 입출력과 사칙연산**"
      ],
      "metadata": {
        "id": "s5u8sTn54-8t"
      }
    },
    {
      "cell_type": "markdown",
      "source": [
        "### **1. [2557번] Hello world**\n",
        "\n",
        "Hello World!를 출력하시오."
      ],
      "metadata": {
        "id": "HdToR5Zd2OMu"
      }
    },
    {
      "cell_type": "code",
      "execution_count": null,
      "metadata": {
        "colab": {
          "base_uri": "https://localhost:8080/"
        },
        "id": "DeV-0s-D10Y_",
        "outputId": "7216e2b8-d407-47af-9a7b-1aa2d5163c7b"
      },
      "outputs": [
        {
          "output_type": "stream",
          "name": "stdout",
          "text": [
            "Hello World!\n"
          ]
        }
      ],
      "source": [
        "print(\"Hello World!\")"
      ]
    },
    {
      "cell_type": "markdown",
      "source": [
        "### **2. [1000번] A + B**\n",
        "\n",
        "두 정수 A와 B를 입력받은 다음, A+B를 출력하는 프로그램을 작성하시오."
      ],
      "metadata": {
        "id": "qsfVQ7ig2dzn"
      }
    },
    {
      "cell_type": "code",
      "source": [
        "a, b = map(int, input().split())\n",
        "print(a+b)"
      ],
      "metadata": {
        "colab": {
          "base_uri": "https://localhost:8080/"
        },
        "id": "rgDyLY0Y2Tb-",
        "outputId": "28dcd80c-ab85-429c-931f-53f344b41488"
      },
      "execution_count": null,
      "outputs": [
        {
          "output_type": "stream",
          "name": "stdout",
          "text": [
            "293 416\n",
            "709\n"
          ]
        }
      ]
    },
    {
      "cell_type": "markdown",
      "source": [
        "### **3. [1001번] A - B**\n",
        "\n",
        "두 정수 A와 B를 입력받은 다음, A-B를 출력하는 프로그램을 작성하시오."
      ],
      "metadata": {
        "id": "uiq2t_BP2pl1"
      }
    },
    {
      "cell_type": "code",
      "source": [
        "a, b = map(int, input().split())\n",
        "print(a-b)"
      ],
      "metadata": {
        "colab": {
          "base_uri": "https://localhost:8080/"
        },
        "id": "ol6OWNUz2qLr",
        "outputId": "4d8babd9-888d-4a34-b154-c58e1ae52619"
      },
      "execution_count": null,
      "outputs": [
        {
          "output_type": "stream",
          "name": "stdout",
          "text": [
            "293 416\n",
            "-123\n"
          ]
        }
      ]
    },
    {
      "cell_type": "markdown",
      "source": [
        "### **4. [10998번] A × B**\n",
        "\n",
        "두 정수 A와 B를 입력받은 다음, A×B를 출력하는 프로그램을 작성하시오."
      ],
      "metadata": {
        "id": "oItQM2Iq2qSt"
      }
    },
    {
      "cell_type": "code",
      "source": [
        "a, b = map(int, input().split())\n",
        "print(a*b)"
      ],
      "metadata": {
        "colab": {
          "base_uri": "https://localhost:8080/"
        },
        "id": "jGQlb_GG2qZh",
        "outputId": "6323e968-e6e2-4f69-c315-5e745f02e244"
      },
      "execution_count": null,
      "outputs": [
        {
          "output_type": "stream",
          "name": "stdout",
          "text": [
            "24 87\n",
            "2088\n"
          ]
        }
      ]
    },
    {
      "cell_type": "markdown",
      "source": [
        "### **5. [1008번] A / B**\n",
        "\n",
        "두 정수 A와 B를 입력받은 다음, A/B를 출력하는 프로그램을 작성하시오."
      ],
      "metadata": {
        "id": "zVffZUDw2qf9"
      }
    },
    {
      "cell_type": "code",
      "source": [
        "a, b = map(int, input().split())\n",
        "print(a/b)"
      ],
      "metadata": {
        "colab": {
          "base_uri": "https://localhost:8080/"
        },
        "id": "ozKvpGrY2qmL",
        "outputId": "c5dae38e-39ac-459f-db4a-bbab5abb6532"
      },
      "execution_count": null,
      "outputs": [
        {
          "output_type": "stream",
          "name": "stdout",
          "text": [
            "24 5\n",
            "4.8\n"
          ]
        }
      ]
    },
    {
      "cell_type": "markdown",
      "source": [
        "### **6. [10869번] 사칙연산**\n",
        "\n",
        "두 자연수 A와 B가 주어진다. 이때, A+B, A-B, A*B, A/B(몫), A%B(나머지)를 출력하는 프로그램을 작성하시오."
      ],
      "metadata": {
        "id": "v6g3YP-A2qrr"
      }
    },
    {
      "cell_type": "code",
      "source": [
        "a, b = map(int, input().split())\n",
        "print(a+b)\n",
        "print(a-b)\n",
        "print(a*b)\n",
        "print(a//b)\n",
        "print(a%b)"
      ],
      "metadata": {
        "colab": {
          "base_uri": "https://localhost:8080/"
        },
        "id": "FVPipi9l2qx4",
        "outputId": "1c945578-571e-4744-b1cb-002327ef5a64"
      },
      "execution_count": null,
      "outputs": [
        {
          "output_type": "stream",
          "name": "stdout",
          "text": [
            "67 7\n",
            "74\n",
            "60\n",
            "469\n",
            "9\n",
            "4\n"
          ]
        }
      ]
    },
    {
      "cell_type": "markdown",
      "source": [
        "###**7. [10926번] ??!**\n",
        "\n",
        "준하는 사이트에 회원가입을 하다가 joonas라는 아이디가 이미 존재하는 것을 보고 놀랐다. 준하는 놀람을 ??!로 표현한다. 준하가 가입하려고 하는 사이트에 이미 존재하는 아이디가 주어졌을 때, 놀람을 표현하는 프로그램을 작성하시오."
      ],
      "metadata": {
        "id": "Jj-U0-mV2q-y"
      }
    },
    {
      "cell_type": "code",
      "source": [
        "s = input()\n",
        "print(s+\"??!\")"
      ],
      "metadata": {
        "colab": {
          "base_uri": "https://localhost:8080/"
        },
        "id": "sMkNx6sc2rE4",
        "outputId": "1e8eb020-3caf-4ffd-a11f-fb0c89a01fa3"
      },
      "execution_count": null,
      "outputs": [
        {
          "output_type": "stream",
          "name": "stdout",
          "text": [
            "joonas\n",
            "joonas??!\n"
          ]
        }
      ]
    },
    {
      "cell_type": "markdown",
      "source": [
        "### **8. [18108번] 1998년생인 내가 태국에서는 2541년생?!**\n",
        "\n",
        "ICPC Bangkok Regional에 참가하기 위해 수완나품 국제공항에 막 도착한 팀 레드시프트 일행은 눈을 믿을 수 없었다. 공항의 대형 스크린에 올해가 2562년이라고 적혀 있던 것이었다.\n",
        "\n",
        "불교 국가인 태국은 불멸기원(佛滅紀元), 즉 석가모니가 열반한 해를 기준으로 연도를 세는 불기를 사용한다. 반면, 우리나라는 서기 연도를 사용하고 있다. 불기 연도가 주어질 때 이를 서기 연도로 바꿔 주는 프로그램을 작성하시오."
      ],
      "metadata": {
        "id": "QCDAgh2F2rKw"
      }
    },
    {
      "cell_type": "code",
      "source": [
        "n = int(input())\n",
        "print(n-543)"
      ],
      "metadata": {
        "colab": {
          "base_uri": "https://localhost:8080/"
        },
        "id": "uTAfMywb2rQX",
        "outputId": "18e010e6-1217-4e3f-8e69-d4130ab07315"
      },
      "execution_count": null,
      "outputs": [
        {
          "output_type": "stream",
          "name": "stdout",
          "text": [
            "2541\n",
            "1998\n"
          ]
        }
      ]
    },
    {
      "cell_type": "markdown",
      "source": [
        "###**9. [10430번] 나머지**\n",
        "\n",
        "(A+B)%C는 ((A%C) + (B%C))%C 와 같을까?\n",
        "\n",
        "(A×B)%C는 ((A%C) × (B%C))%C 와 같을까?\n",
        "\n",
        "세 수 A, B, C가 주어졌을 때, 위의 네 가지 값을 구하는 프로그램을 작성하시오."
      ],
      "metadata": {
        "id": "2PoyV5Mg3UQp"
      }
    },
    {
      "cell_type": "code",
      "source": [
        "A, B, C = map(int, input().split())\n",
        "print((A+B)%C)\n",
        "print(((A%C) + (B%C))%C)\n",
        "print((A*B)%C)\n",
        "print(((A%C) * (B%C))%C)"
      ],
      "metadata": {
        "colab": {
          "base_uri": "https://localhost:8080/"
        },
        "id": "iPJ5Nv1k3Tm1",
        "outputId": "7bc4a5da-96dc-494c-f21c-2ae9879fdfff"
      },
      "execution_count": null,
      "outputs": [
        {
          "output_type": "stream",
          "name": "stdout",
          "text": [
            "6 9 4\n",
            "3\n",
            "3\n",
            "2\n",
            "2\n"
          ]
        }
      ]
    },
    {
      "cell_type": "markdown",
      "source": [
        "###**10. [2588번] 곱셈**\n",
        "\n",
        "(세 자리 수) × (세 자리 수)는 다음과 같은 과정을 통하여 이루어진다.\n",
        "![다운로드.png](data:image/png;base64,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)\n",
        "\n",
        "(1)과 (2)위치에 들어갈 세 자리 자연수가 주어질 때 (3), (4), (5), (6)위치에 들어갈 값을 구하는 프로그램을 작성하시오."
      ],
      "metadata": {
        "id": "h7uP5nBT3WMZ"
      }
    },
    {
      "cell_type": "code",
      "source": [
        "a = int(input())\n",
        "b = input()\n",
        "print(a*int(b[2]))\n",
        "print(a*int(b[1]))\n",
        "print(a*int(b[0]))\n",
        "print(a*int(b))"
      ],
      "metadata": {
        "colab": {
          "base_uri": "https://localhost:8080/"
        },
        "id": "y70C2E9I3WUZ",
        "outputId": "2d0fa75f-bf54-4ed7-e177-571c6782c6e1"
      },
      "execution_count": null,
      "outputs": [
        {
          "output_type": "stream",
          "name": "stdout",
          "text": [
            "472\n",
            "385\n",
            "2360\n",
            "3776\n",
            "1416\n",
            "181720\n"
          ]
        }
      ]
    },
    {
      "cell_type": "markdown",
      "source": [
        "###**11. [11382번] 꼬마 정민**\n",
        "\n",
        "꼬마 정민이는 이제 A + B 정도는 쉽게 계산할 수 있다. 이제 A + B + C를 계산할 차례이다!"
      ],
      "metadata": {
        "id": "K1j-eEQw3Wba"
      }
    },
    {
      "cell_type": "code",
      "source": [
        "a, b, c = map(int, input().split())\n",
        "print(a+b+c)"
      ],
      "metadata": {
        "colab": {
          "base_uri": "https://localhost:8080/"
        },
        "id": "p_h9HV143WiT",
        "outputId": "a23f94f2-eb4c-452f-e908-097ee2faa714"
      },
      "execution_count": null,
      "outputs": [
        {
          "output_type": "stream",
          "name": "stdout",
          "text": [
            "4 6 5\n",
            "15\n"
          ]
        }
      ]
    },
    {
      "cell_type": "markdown",
      "source": [
        "###**12. [10171번] 고양이**\n",
        "\n",
        "고양이를 출력하시오."
      ],
      "metadata": {
        "id": "CE8sN9UH3Woi"
      }
    },
    {
      "cell_type": "code",
      "source": [
        "print(\"\"\"\\    /\\\\\n",
        " )  ( ')\n",
        "(  /  )\n",
        " \\\\(__)|\"\"\")"
      ],
      "metadata": {
        "colab": {
          "base_uri": "https://localhost:8080/"
        },
        "id": "XMmiv_ef3WuR",
        "outputId": "1bf6413a-da6a-45a0-811e-d02db4739bc8"
      },
      "execution_count": null,
      "outputs": [
        {
          "output_type": "stream",
          "name": "stdout",
          "text": [
            "\\    /\\\n",
            " )  ( ')\n",
            "(  /  )\n",
            " \\(__)|\n"
          ]
        }
      ]
    },
    {
      "cell_type": "markdown",
      "source": [
        "### **13. [10172번] 개**\n",
        "개를 출력하시오."
      ],
      "metadata": {
        "id": "ffmOuo7W3Wzx"
      }
    },
    {
      "cell_type": "code",
      "source": [
        "print(\"\"\"|\\\\_/|\n",
        "|q p|   /}\n",
        "( 0 )\\\"\\\"\\\"\\\\\n",
        "|\"^\"`    |\n",
        "||_/=\\\\\\\\__|\"\"\")"
      ],
      "metadata": {
        "colab": {
          "base_uri": "https://localhost:8080/"
        },
        "id": "GsBqRMMf3W5i",
        "outputId": "349f33ac-b296-4a88-b7c2-76c8aac2212f"
      },
      "execution_count": null,
      "outputs": [
        {
          "output_type": "stream",
          "name": "stdout",
          "text": [
            "|\\_/|\n",
            "|q p|   /}\n",
            "( 0 )\"\"\"\\\n",
            "|\"^\"`    |\n",
            "||_/=\\\\__|\n"
          ]
        }
      ]
    }
  ]
}