{
  "nbformat": 4,
  "nbformat_minor": 0,
  "metadata": {
    "colab": {
      "provenance": [],
      "authorship_tag": "ABX9TyOY4gkPm5MUaXqV25pYZ3Kj",
      "include_colab_link": true
    },
    "kernelspec": {
      "name": "python3",
      "display_name": "Python 3"
    },
    "language_info": {
      "name": "python"
    }
  },
  "cells": [
    {
      "cell_type": "markdown",
      "metadata": {
        "id": "view-in-github",
        "colab_type": "text"
      },
      "source": [
        "<a href=\"https://colab.research.google.com/github/yeiniz/Coding-Test/blob/main/%5B%EB%B0%B1%EC%A4%80%5D%5B%EB%8B%A8%EA%B3%84%EB%B3%84%5D%205.%EB%AC%B8%EC%9E%90%EC%97%B4.ipynb\" target=\"_parent\"><img src=\"https://colab.research.google.com/assets/colab-badge.svg\" alt=\"Open In Colab\"/></a>"
      ]
    },
    {
      "cell_type": "markdown",
      "source": [
        "## **[백준 | 단계별로 풀어보기] 5. 문자열**"
      ],
      "metadata": {
        "id": "0jJbb8Jd-KLG"
      }
    },
    {
      "cell_type": "markdown",
      "source": [
        "### **1. [27866번] 문자와 문자열**\n",
        "단어\n",
        "$S$와 정수\n",
        "$i$가 주어졌을 때,\n",
        "$S$의\n",
        "$i$번째 글자를 출력하는 프로그램을 작성하시오."
      ],
      "metadata": {
        "id": "YgWEzFEq-ZX4"
      }
    },
    {
      "cell_type": "code",
      "source": [
        "s = input()\n",
        "n = int(input())\n",
        "\n",
        "print(s[n-1])"
      ],
      "metadata": {
        "colab": {
          "base_uri": "https://localhost:8080/"
        },
        "id": "o-h3jhpE-Tbu",
        "outputId": "948e7e10-c913-4ef8-b04b-e67136e8f1db"
      },
      "execution_count": 2,
      "outputs": [
        {
          "output_type": "stream",
          "name": "stdout",
          "text": [
            "Sprout\n",
            "3\n",
            "r\n"
          ]
        }
      ]
    },
    {
      "cell_type": "markdown",
      "source": [
        "### **2. [2743번] 단어 길이 재기**\n",
        "알파벳으로만 이루어진 단어를 입력받아, 그 길이를 출력하는 프로그램을 작성하시오."
      ],
      "metadata": {
        "id": "I5nUBCUr-YYX"
      }
    },
    {
      "cell_type": "code",
      "source": [
        "s = input()\n",
        "\n",
        "print(len(s))"
      ],
      "metadata": {
        "colab": {
          "base_uri": "https://localhost:8080/"
        },
        "id": "5tKkBtkD-Xyo",
        "outputId": "5af4f649-1f7a-4235-bd24-cb16e56fc2f7"
      },
      "execution_count": 3,
      "outputs": [
        {
          "output_type": "stream",
          "name": "stdout",
          "text": [
            "pulljima\n",
            "8\n"
          ]
        }
      ]
    },
    {
      "cell_type": "markdown",
      "source": [
        "### **3. [9086번] 문자열**\n",
        "문자열을 입력으로 주면 문자열의 첫 글자와 마지막 글자를 출력하는 프로그램을 작성하시오."
      ],
      "metadata": {
        "id": "f-RHj9vp-Y2Q"
      }
    },
    {
      "cell_type": "code",
      "execution_count": 5,
      "metadata": {
        "colab": {
          "base_uri": "https://localhost:8080/"
        },
        "id": "hbX1QBtv973O",
        "outputId": "2e89642a-16a3-4e79-c65c-a3f4f0625e23"
      },
      "outputs": [
        {
          "output_type": "stream",
          "name": "stdout",
          "text": [
            "3\n",
            "ABCDEFGH\n",
            "AH\n",
            "O\n",
            "OO\n",
            "AB\n",
            "AB\n"
          ]
        }
      ],
      "source": [
        "T = int(input())\n",
        "\n",
        "for i in range(T):\n",
        "  s = input()\n",
        "  print(s[0]+s[len(s)-1])"
      ]
    },
    {
      "cell_type": "markdown",
      "source": [
        "### **4. [11654번] 아스키 코드**\n",
        "알파벳 소문자, 대문자, 숫자 0-9중 하나가 주어졌을 때, 주어진 글자의 아스키 코드값을 출력하는 프로그램을 작성하시오."
      ],
      "metadata": {
        "id": "pERbXJCs-VE9"
      }
    },
    {
      "cell_type": "code",
      "source": [
        "s = input()\n",
        "print(ord(s))"
      ],
      "metadata": {
        "colab": {
          "base_uri": "https://localhost:8080/"
        },
        "id": "y2kO6o4w-VN4",
        "outputId": "ed2438bf-0083-4cba-8cdd-008e689f8ebe"
      },
      "execution_count": 8,
      "outputs": [
        {
          "output_type": "stream",
          "name": "stdout",
          "text": [
            "A\n",
            "65\n"
          ]
        }
      ]
    },
    {
      "cell_type": "markdown",
      "source": [
        "### **5. [11720번] 숫자의 합**\n",
        "N개의 숫자가 공백 없이 쓰여있다. 이 숫자를 모두 합해서 출력하는 프로그램을 작성하시오."
      ],
      "metadata": {
        "id": "7VkIiZ2H-VW5"
      }
    },
    {
      "cell_type": "code",
      "source": [
        "N = int(input())\n",
        "s = input()\n",
        "sum = 0\n",
        "for i in s:\n",
        "  sum += int(i)\n",
        "print(sum)"
      ],
      "metadata": {
        "colab": {
          "base_uri": "https://localhost:8080/"
        },
        "id": "XVDrpKLU-VfH",
        "outputId": "4de2c130-fb3d-48d1-a5ce-684e00c74c42"
      },
      "execution_count": 11,
      "outputs": [
        {
          "output_type": "stream",
          "name": "stdout",
          "text": [
            "5\n",
            "54321\n",
            "15\n"
          ]
        }
      ]
    },
    {
      "cell_type": "markdown",
      "source": [
        "### **6. [10809번] 알파벳 찾기**\n",
        "알파벳 소문자로만 이루어진 단어 S가 주어진다. 각각의 알파벳에 대해서, 단어에 포함되어 있는 경우에는 처음 등장하는 위치를, 포함되어 있지 않은 경우에는 -1을 출력하는 프로그램을 작성하시오.\n"
      ],
      "metadata": {
        "id": "fjYvM39Z-VmP"
      }
    },
    {
      "cell_type": "code",
      "source": [
        "s = input()\n",
        "l = [-1] * 26\n",
        "c = []\n",
        "for i in s:\n",
        "  if i not in c:\n",
        "    l[ord(i)-97] = s.index(i)\n",
        "for i in range(len(l)):\n",
        "  print(l[i], end=' ')"
      ],
      "metadata": {
        "colab": {
          "base_uri": "https://localhost:8080/"
        },
        "id": "NMNSQWVw-Vss",
        "outputId": "256f88c8-2bc1-49e7-8da0-224e0e73f82c"
      },
      "execution_count": 16,
      "outputs": [
        {
          "output_type": "stream",
          "name": "stdout",
          "text": [
            "baekjoon\n",
            "1 0 -1 -1 2 -1 -1 -1 -1 4 3 -1 -1 7 5 -1 -1 -1 -1 -1 -1 -1 -1 -1 -1 -1 "
          ]
        }
      ]
    },
    {
      "cell_type": "markdown",
      "source": [
        "### **7. [2675번] 문자열 반복**\n",
        "문자열 S를 입력받은 후에, 각 문자를 R번 반복해 새 문자열 P를 만든 후 출력하는 프로그램을 작성하시오. 즉, 첫 번째 문자를 R번 반복하고, 두 번째 문자를 R번 반복하는 식으로 P를 만들면 된다. S에는 QR Code \"alphanumeric\" 문자만 들어있다.\n",
        "\n",
        "QR Code \"alphanumeric\" 문자는 0123456789ABCDEFGHIJKLMNOPQRSTUVWXYZ\\$%*+-./: 이다.\n",
        "\n"
      ],
      "metadata": {
        "id": "CcT4dNTp-V0r"
      }
    },
    {
      "cell_type": "code",
      "source": [
        "T = int(input())\n",
        "for i in range(T):\n",
        "  a, b = input().split()\n",
        "  for i in b:\n",
        "    print(i*int(a), end='')\n",
        "  print('')"
      ],
      "metadata": {
        "colab": {
          "base_uri": "https://localhost:8080/"
        },
        "id": "YD-VGmS--V7c",
        "outputId": "7ffd01bf-a31f-4b75-d792-a89d5e05c964"
      },
      "execution_count": 20,
      "outputs": [
        {
          "output_type": "stream",
          "name": "stdout",
          "text": [
            "2\n",
            "3 ABC\n",
            "AAABBBCCC\n",
            "5 /HTP\n",
            "/////HHHHHTTTTTPPPPP\n"
          ]
        }
      ]
    },
    {
      "cell_type": "markdown",
      "source": [
        "### **8. [1152번] 단어의 개수**\n",
        "영어 대소문자와 공백으로 이루어진 문자열이 주어진다. 이 문자열에는 몇 개의 단어가 있을까? 이를 구하는 프로그램을 작성하시오. 단, 한 단어가 여러 번 등장하면 등장한 횟수만큼 모두 세어야 한다.\n"
      ],
      "metadata": {
        "id": "A1prlCIP-WCP"
      }
    },
    {
      "cell_type": "code",
      "source": [
        "s = input()\n",
        "l = s.split()\n",
        "print(len(l))"
      ],
      "metadata": {
        "colab": {
          "base_uri": "https://localhost:8080/"
        },
        "id": "PYuOE242-WJW",
        "outputId": "ff574e6a-eb3d-4c6c-da64-31e266b57e19"
      },
      "execution_count": 21,
      "outputs": [
        {
          "output_type": "stream",
          "name": "stdout",
          "text": [
            "The Curious Case of Benjamin Button\n",
            "6\n"
          ]
        }
      ]
    },
    {
      "cell_type": "markdown",
      "source": [
        "### **9. [2908번] 상수**\n",
        "상근이의 동생 상수는 수학을 정말 못한다. 상수는 숫자를 읽는데 문제가 있다. 이렇게 수학을 못하는 상수를 위해서 상근이는 수의 크기를 비교하는 문제를 내주었다. 상근이는 세 자리 수 두 개를 칠판에 써주었다. 그 다음에 크기가 큰 수를 말해보라고 했다.\n",
        "\n",
        "상수는 수를 다른 사람과 다르게 거꾸로 읽는다. 예를 들어, 734와 893을 칠판에 적었다면, 상수는 이 수를 437과 398로 읽는다. 따라서, 상수는 두 수중 큰 수인 437을 큰 수라고 말할 것이다.\n",
        "\n",
        "두 수가 주어졌을 때, 상수의 대답을 출력하는 프로그램을 작성하시오."
      ],
      "metadata": {
        "id": "vTc71gCX-WP3"
      }
    },
    {
      "cell_type": "code",
      "source": [
        "a,b = input().split()\n",
        "a = int(a[::-1])\n",
        "b = int(b[::-1])\n",
        "if a > b:\n",
        "  print(a)\n",
        "else:\n",
        "  print(b)"
      ],
      "metadata": {
        "colab": {
          "base_uri": "https://localhost:8080/"
        },
        "id": "dQJv-qDf-WWh",
        "outputId": "bcd63a4f-96b1-4b21-a5c0-493b9857cb50"
      },
      "execution_count": 23,
      "outputs": [
        {
          "output_type": "stream",
          "name": "stdout",
          "text": [
            "734 893\n",
            "437\n"
          ]
        }
      ]
    },
    {
      "cell_type": "markdown",
      "source": [
        "### **10. [5622번] 다이얼**\n",
        "상근이의 할머니는 아래 그림과 같이 오래된 다이얼 전화기를 사용한다.\n",
        "\n",
        "전화를 걸고 싶은 번호가 있다면, 숫자를 하나를 누른 다음에 금속 핀이 있는 곳 까지 시계방향으로 돌려야 한다. 숫자를 하나 누르면 다이얼이 처음 위치로 돌아가고, 다음 숫자를 누르려면 다이얼을 처음 위치에서 다시 돌려야 한다.\n",
        "\n",
        "숫자 1을 걸려면 총 2초가 필요하다. 1보다 큰 수를 거는데 걸리는 시간은 이보다 더 걸리며, 한 칸 옆에 있는 숫자를 걸기 위해선 1초씩 더 걸린다.\n",
        "\n",
        "상근이의 할머니는 전화 번호를 각 숫자에 해당하는 문자로 외운다. 즉, 어떤 단어를 걸 때, 각 알파벳에 해당하는 숫자를 걸면 된다. 예를 들어, UNUCIC는 868242와 같다.\n",
        "\n",
        "할머니가 외운 단어가 주어졌을 때, 이 전화를 걸기 위해서 필요한 최소 시간을 구하는 프로그램을 작성하시오."
      ],
      "metadata": {
        "id": "CkpgqyoM-WdH"
      }
    },
    {
      "cell_type": "code",
      "source": [
        "dial = ['ABC', 'DEF', 'GHI', 'JKL', 'MNO', 'PQRS', 'TUV', 'WXYZ']\n",
        "s = input()\n",
        "sum = 0\n",
        "for i in range(len(s)):\n",
        "  for j in dial:\n",
        "    if s[i] in j:\n",
        "      sum += dial.index(j)+3\n",
        "print(sum)"
      ],
      "metadata": {
        "colab": {
          "base_uri": "https://localhost:8080/"
        },
        "id": "hBl5eoQu-Wi8",
        "outputId": "4875030e-7cb3-4dce-a807-320abc1efbf4"
      },
      "execution_count": 27,
      "outputs": [
        {
          "output_type": "stream",
          "name": "stdout",
          "text": [
            "WA\n",
            "13\n"
          ]
        }
      ]
    },
    {
      "cell_type": "markdown",
      "source": [
        "### **11. [11718번] 그대로 출력하기**\n",
        "입력 받은 대로 출력하는 프로그램을 작성하시오."
      ],
      "metadata": {
        "id": "vPlxgFFlr18n"
      }
    },
    {
      "cell_type": "code",
      "source": [
        "while True:\n",
        "    try:\n",
        "        print(input())\n",
        "    except EOFError:\n",
        "        break"
      ],
      "metadata": {
        "colab": {
          "base_uri": "https://localhost:8080/"
        },
        "id": "iw4zniGHr74N",
        "outputId": "259587f3-f7a7-4040-f94d-33c679a8568a"
      },
      "execution_count": 31,
      "outputs": [
        {
          "name": "stdout",
          "output_type": "stream",
          "text": [
            "Hello Baekjoon Online Judge\n",
            "Hello Baekjoon Online Judge\n",
            "Hi Hi\n",
            "Hi Hi\n",
            "\u0004\n"
          ]
        }
      ]
    },
    {
      "cell_type": "code",
      "source": [
        "import sys\n",
        "s = sys.stdin.readlines()\n",
        "for i in s:\n",
        "    print(i.rstrip())"
      ],
      "metadata": {
        "id": "NjMv0EX7tYp1"
      },
      "execution_count": 32,
      "outputs": []
    }
  ]
}