{
  "nbformat": 4,
  "nbformat_minor": 0,
  "metadata": {
    "colab": {
      "provenance": [],
      "authorship_tag": "ABX9TyNIEYw4vzTuLz/Kv1El5KRG",
      "include_colab_link": true
    },
    "kernelspec": {
      "name": "python3",
      "display_name": "Python 3"
    },
    "language_info": {
      "name": "python"
    }
  },
  "cells": [
    {
      "cell_type": "markdown",
      "metadata": {
        "id": "view-in-github",
        "colab_type": "text"
      },
      "source": [
        "<a href=\"https://colab.research.google.com/github/yeiniz/Coding-Test/blob/main/%5B%EB%B0%B1%EC%A4%80%5D%5B%EB%8B%A8%EA%B3%84%EB%B3%84%5D%206.%EC%8B%AC%ED%99%941.ipynb\" target=\"_parent\"><img src=\"https://colab.research.google.com/assets/colab-badge.svg\" alt=\"Open In Colab\"/></a>"
      ]
    },
    {
      "cell_type": "markdown",
      "source": [
        "## **[백준 | 단계별로 풀어보기] 6. 심화1**"
      ],
      "metadata": {
        "id": "0jJbb8Jd-KLG"
      }
    },
    {
      "cell_type": "markdown",
      "source": [
        "### **1. [25083번] 새싹**\n",
        "새싹을 출력하시오."
      ],
      "metadata": {
        "id": "YgWEzFEq-ZX4"
      }
    },
    {
      "cell_type": "code",
      "source": [
        "print(\"\"\"         ,r'\"7\n",
        "r`-_   ,'  ,/\n",
        " \\. \". L_r'\n",
        "   `~\\/\n",
        "      |\n",
        "      |\"\"\")"
      ],
      "metadata": {
        "colab": {
          "base_uri": "https://localhost:8080/"
        },
        "id": "o-h3jhpE-Tbu",
        "outputId": "4c83b682-f2d3-4dc9-93ca-72ce16917fae"
      },
      "execution_count": null,
      "outputs": [
        {
          "output_type": "stream",
          "name": "stdout",
          "text": [
            "         ,r'\"7\n",
            "          r`-_   ,'  ,/\n",
            "          \\. \". L_r'\n",
            "            `~\\/\n",
            "                |\n",
            "                |\n"
          ]
        }
      ]
    },
    {
      "cell_type": "markdown",
      "source": [
        "### **2. [3003번] 킹, 퀸, 룩, 비숍, 나이트, 폰**\n",
        "동혁이는 오래된 창고를 뒤지다가 낡은 체스판과 피스를 발견했다.\n",
        "\n",
        "체스판의 먼지를 털어내고 걸레로 닦으니 그럭저럭 쓸만한 체스판이 되었다. 하지만, 검정색 피스는 모두 있었으나, 흰색 피스는 개수가 올바르지 않았다.\n",
        "\n",
        "체스는 총 16개의 피스를 사용하며, 킹 1개, 퀸 1개, 룩 2개, 비숍 2개, 나이트 2개, 폰 8개로 구성되어 있다.\n",
        "\n",
        "동혁이가 발견한 흰색 피스의 개수가 주어졌을 때, 몇 개를 더하거나 빼야 올바른 세트가 되는지 구하는 프로그램을 작성하시오."
      ],
      "metadata": {
        "id": "I5nUBCUr-YYX"
      }
    },
    {
      "cell_type": "code",
      "source": [
        "piece = [1,1,2,2,2,8]\n",
        "l = list(map(int, input().split()))\n",
        "for i in range(len(piece)):\n",
        "  print(piece[i]-l[i], end=' ')"
      ],
      "metadata": {
        "colab": {
          "base_uri": "https://localhost:8080/"
        },
        "id": "5tKkBtkD-Xyo",
        "outputId": "d93b29dd-2d47-49fa-8790-da258dabf775"
      },
      "execution_count": null,
      "outputs": [
        {
          "output_type": "stream",
          "name": "stdout",
          "text": [
            "0 1 2 2 2 7\n",
            "1 0 0 0 0 1 "
          ]
        }
      ]
    },
    {
      "cell_type": "markdown",
      "source": [
        "### **3. [2444번] 별 찍기 - 7**\n",
        "다이아몬드 모양으로 별 찍기"
      ],
      "metadata": {
        "id": "f-RHj9vp-Y2Q"
      }
    },
    {
      "cell_type": "code",
      "execution_count": null,
      "metadata": {
        "colab": {
          "base_uri": "https://localhost:8080/"
        },
        "id": "hbX1QBtv973O",
        "outputId": "d06aa0be-a31e-4fe7-9f60-4d13659728f1"
      },
      "outputs": [
        {
          "output_type": "stream",
          "name": "stdout",
          "text": [
            "5\n",
            "    *\n",
            "   ***\n",
            "  *****\n",
            " *******\n",
            "*********\n",
            " *******\n",
            "  *****\n",
            "   ***\n",
            "    *\n"
          ]
        }
      ],
      "source": [
        "n = int(input())\n",
        "length = 2*n-1\n",
        "mid = n-1\n",
        "for i in range(length):\n",
        "  if i <= mid:\n",
        "    print(' '*(mid-i)+'*'*(1+2*i))\n",
        "  else:\n",
        "    print(' '*(i-mid)+'*'*(2*(length-i)-1))"
      ]
    },
    {
      "cell_type": "markdown",
      "source": [
        "### **4. [10988번] 팰린드롬인지 확인하기**\n",
        "알파벳 소문자로만 이루어진 단어가 주어진다. 이때, 이 단어가 팰린드롬인지 아닌지 확인하는 프로그램을 작성하시오.\n",
        "\n",
        "팰린드롬이란 앞으로 읽을 때와 거꾸로 읽을 때 똑같은 단어를 말한다.\n",
        "\n",
        "level, noon은 팰린드롬이고, baekjoon, online, judge는 팰린드롬이 아니다."
      ],
      "metadata": {
        "id": "pERbXJCs-VE9"
      }
    },
    {
      "cell_type": "code",
      "source": [
        "# 제출하면 오답으로 뜸\n",
        "s = input()\n",
        "res = True\n",
        "length = len(s)\n",
        "\n",
        "for i in range(length//2):\n",
        "  res = s[i] == s[length-(i+1)]\n",
        "\n",
        "if res:\n",
        "  print(1)\n",
        "else:\n",
        "  print(0)"
      ],
      "metadata": {
        "colab": {
          "base_uri": "https://localhost:8080/"
        },
        "id": "y2kO6o4w-VN4",
        "outputId": "4f5835b3-0b58-482d-a6a2-2ebbb5939c58"
      },
      "execution_count": null,
      "outputs": [
        {
          "output_type": "stream",
          "name": "stdout",
          "text": [
            "l\n",
            "1\n"
          ]
        }
      ]
    },
    {
      "cell_type": "code",
      "source": [
        "s = input()\n",
        "\n",
        "if s[::1] == s[::-1]:\n",
        "    print(1)\n",
        "else:\n",
        "    print(0)"
      ],
      "metadata": {
        "colab": {
          "base_uri": "https://localhost:8080/"
        },
        "id": "-FDilXKTBTCy",
        "outputId": "f75635cf-b8c0-4d90-ecb2-f8618994b81d"
      },
      "execution_count": null,
      "outputs": [
        {
          "output_type": "stream",
          "name": "stdout",
          "text": [
            "level\n",
            "1\n"
          ]
        }
      ]
    },
    {
      "cell_type": "markdown",
      "source": [
        "### **5. [1157번] 단어 공부**\n",
        "알파벳 대소문자로 된 단어가 주어지면, 이 단어에서 가장 많이 사용된 알파벳이 무엇인지 알아내는 프로그램을 작성하시오. 단, 대문자와 소문자를 구분하지 않는다."
      ],
      "metadata": {
        "id": "7VkIiZ2H-VW5"
      }
    },
    {
      "cell_type": "code",
      "source": [
        "s = input().upper()    # 입력받은 문자를 모두 대문자로 변환\n",
        "li = [0]*26\n",
        "\n",
        "for i in s:\n",
        "    li[ord(i)-65] += 1\n",
        "\n",
        "if li.count(max(li))>= 2:\n",
        "    print(\"?\")\n",
        "else:\n",
        "    print(chr(li.index(max(li))+65))"
      ],
      "metadata": {
        "colab": {
          "base_uri": "https://localhost:8080/"
        },
        "id": "XVDrpKLU-VfH",
        "outputId": "99524170-d5d9-43de-ce8f-d93077c9ef96"
      },
      "execution_count": 6,
      "outputs": [
        {
          "output_type": "stream",
          "name": "stdout",
          "text": [
            "zZa\n",
            "Z\n"
          ]
        }
      ]
    },
    {
      "cell_type": "markdown",
      "source": [
        "### **6. [2941번] 크로아티아 알파벳**\n",
        "예전에는 운영체제에서 크로아티아 알파벳을 입력할 수가 없었다. 따라서, 다음과 같이 크로아티아 알파벳을 변경해서 입력했다.\n",
        "\n",
        "예를 들어, ljes=njak은 크로아티아 알파벳 6개(lj, e, š, nj, a, k)로 이루어져 있다. 단어가 주어졌을 때, 몇 개의 크로아티아 알파벳으로 이루어져 있는지 출력한다.\n",
        "\n",
        "dž는 무조건 하나의 알파벳으로 쓰이고, d와 ž가 분리된 것으로 보지 않는다. lj와 nj도 마찬가지이다. 위 목록에 없는 알파벳은 한 글자씩 센다."
      ],
      "metadata": {
        "id": "fjYvM39Z-VmP"
      }
    },
    {
      "cell_type": "code",
      "source": [
        "# colab 상 결과는 맞는데 왜 틀린 답안이라고 하는지 모르겠다..\n",
        "croatian = ['c=', 'c-', 'dz', 'd-', 'lj', 'nj', 's=', 'z=']\n",
        "s = input()\n",
        "\n",
        "sep = ''\n",
        "count = 0\n",
        "\n",
        "for i in range(len(s)):\n",
        "  if s[i:i+2] in croatian:\n",
        "    count += 1\n",
        "\n",
        "print(len(s)-count)"
      ],
      "metadata": {
        "colab": {
          "base_uri": "https://localhost:8080/"
        },
        "id": "NMNSQWVw-Vss",
        "outputId": "ed6013b1-5809-4ee5-8ac9-a9cfbf27073d"
      },
      "execution_count": 16,
      "outputs": [
        {
          "output_type": "stream",
          "name": "stdout",
          "text": [
            "dz=ak\n",
            "3\n"
          ]
        }
      ]
    },
    {
      "cell_type": "code",
      "source": [
        "a = input()\n",
        "croatia_a = ['c=', 'c-', 'dz=', 'd-', 'lj', 'nj', 's=', 'z=']\n",
        "\n",
        "for i in croatia_a:\n",
        "    a = a.replace(i, \"*\")\n",
        "\n",
        "print(len(a))"
      ],
      "metadata": {
        "colab": {
          "base_uri": "https://localhost:8080/"
        },
        "id": "sXgiY9eKQy5D",
        "outputId": "cca9ebc3-069e-4d4c-b9fc-fff45aa773d2"
      },
      "execution_count": 17,
      "outputs": [
        {
          "output_type": "stream",
          "name": "stdout",
          "text": [
            "ljes=njak\n",
            "6\n"
          ]
        }
      ]
    },
    {
      "cell_type": "markdown",
      "source": [
        "### **7. [1316번] 그룹 단어 체커**\n",
        "그룹 단어란 단어에 존재하는 모든 문자에 대해서, 각 문자가 연속해서 나타나는 경우만을 말한다. 예를 들면, ccazzzzbb는 c, a, z, b가 모두 연속해서 나타나고, kin도 k, i, n이 연속해서 나타나기 때문에 그룹 단어이지만, aabbbccb는 b가 떨어져서 나타나기 때문에 그룹 단어가 아니다.\n",
        "\n",
        "단어 N개를 입력으로 받아 그룹 단어의 개수를 출력하는 프로그램을 작성하시오.\n",
        "\n"
      ],
      "metadata": {
        "id": "CcT4dNTp-V0r"
      }
    },
    {
      "cell_type": "code",
      "source": [
        "n = int(input())\n",
        "count = n\n",
        "\n",
        "for i in range(n):\n",
        "  s = input()\n",
        "  for j in range(len(s)-1):\n",
        "    if s[j] == s[j+1]:\n",
        "      continue\n",
        "    elif s[j] in s[j+1:]:\n",
        "      count -= 1\n",
        "      break\n",
        "print(count)"
      ],
      "metadata": {
        "colab": {
          "base_uri": "https://localhost:8080/"
        },
        "id": "YD-VGmS--V7c",
        "outputId": "e2d1b677-531a-4129-db4c-906d11e96449"
      },
      "execution_count": 19,
      "outputs": [
        {
          "output_type": "stream",
          "name": "stdout",
          "text": [
            "3\n",
            "happy\n",
            "abab\n",
            "sad\n",
            "2\n"
          ]
        }
      ]
    },
    {
      "cell_type": "markdown",
      "source": [
        "### **8. [25206번] 너의 평점은**\n",
        "인하대학교 컴퓨터공학과를 졸업하기 위해서는, 전공평점이 3.3 이상이거나 졸업고사를 통과해야 한다. 그런데 아뿔싸, 치훈이는 깜빡하고 졸업고사를 응시하지 않았다는 사실을 깨달았다!\n",
        "\n",
        "치훈이의 전공평점을 계산해주는 프로그램을 작성해보자.\n",
        "\n",
        "전공평점은 전공과목별 (학점 × 과목평점)의 합을 학점의 총합으로 나눈 값이다.\n",
        "\n",
        "인하대학교 컴퓨터공학과의 등급에 따른 과목평점은 다음 표와 같다. A+ ~ F\n",
        "\n",
        "P/F 과목의 경우 등급이 P또는 F로 표시되는데, 등급이 P인 과목은 계산에서 제외해야 한다.\n",
        "\n",
        "과연 치훈이는 무사히 졸업할 수 있을까?\n"
      ],
      "metadata": {
        "id": "A1prlCIP-WCP"
      }
    },
    {
      "cell_type": "code",
      "source": [
        "gradeList = ['F', 'P', 'D0', 'D+', 'C0', 'C+', 'B0', 'B+', 'A0', 'A+']\n",
        "creditSum = 0\n",
        "gradeSum = 0\n",
        "\n",
        "for i in range(20):\n",
        "  course, credit, grade = input().split()\n",
        "  credit = float(credit)\n",
        "  if grade == 'P':\n",
        "    continue\n",
        "  else:\n",
        "    creditSum += credit\n",
        "    gradeSum += gradeList.index(grade) * 0.5 * credit\n",
        "print(gradeSum / creditSum)"
      ],
      "metadata": {
        "colab": {
          "base_uri": "https://localhost:8080/"
        },
        "id": "PYuOE242-WJW",
        "outputId": "3b98a401-e19a-4c38-c692-289ab098ec24"
      },
      "execution_count": 32,
      "outputs": [
        {
          "output_type": "stream",
          "name": "stdout",
          "text": [
            "ObjectOrientedProgramming1 3.0 A+\n",
            "IntroductiontoComputerEngineering 3.0 A+\n",
            "ObjectOrientedProgramming2 3.0 A0\n",
            "CreativeComputerEngineeringDesign 3.0 A+\n",
            "AssemblyLanguage 3.0 A+\n",
            "InternetProgramming 3.0 B0\n",
            "ApplicationProgramminginJava 3.0 A0\n",
            "SystemProgramming 3.0 B0\n",
            "OperatingSystem 3.0 B0\n",
            "WirelessCommunicationsandNetworking 3.0 C+\n",
            "LogicCircuits 3.0 B0\n",
            "DataStructure 4.0 A+\n",
            "MicroprocessorApplication 3.0 B+\n",
            "EmbeddedSoftware 3.0 C0\n",
            "ComputerSecurity 3.0 D+\n",
            "Database 3.0 C+\n",
            "Algorithm 3.0 B0\n",
            "CapstoneDesigninCSE 3.0 B+\n",
            "CompilerDesign 3.0 D0\n",
            "ProblemSolving 4.0 P\n",
            "3.2844827586206895\n"
          ]
        }
      ]
    }
  ]
}
